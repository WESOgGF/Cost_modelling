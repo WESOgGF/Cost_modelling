{
 "cells": [
  {
   "cell_type": "code",
   "execution_count": 30,
   "metadata": {},
   "outputs": [],
   "source": [
    "import pandas as pd\n",
    "\n",
    "df = pd.DataFrame([[1,2,3,4],[5,6,7,8]], columns = [\"column1\", \"column2\", \"column3\", \"column4\"], index = [1,2])\n",
    "df.loc[3] = [10,11,12,13]\n",
    "df.loc[3,\"column3\"] = 666\n",
    "df.iloc [1,3] = 777\n",
    "df = df.rename(columns = {\"column1\":\"Spalte555\", \"column4\":\"Spalaus\" })\n",
    "\n",
    "\n"
   ]
  },
  {
   "cell_type": "code",
   "execution_count": 31,
   "metadata": {},
   "outputs": [
    {
     "data": {
      "text/html": [
       "<div>\n",
       "<style scoped>\n",
       "    .dataframe tbody tr th:only-of-type {\n",
       "        vertical-align: middle;\n",
       "    }\n",
       "\n",
       "    .dataframe tbody tr th {\n",
       "        vertical-align: top;\n",
       "    }\n",
       "\n",
       "    .dataframe thead th {\n",
       "        text-align: right;\n",
       "    }\n",
       "</style>\n",
       "<table border=\"1\" class=\"dataframe\">\n",
       "  <thead>\n",
       "    <tr style=\"text-align: right;\">\n",
       "      <th></th>\n",
       "      <th>Spalte555</th>\n",
       "      <th>column2</th>\n",
       "      <th>column3</th>\n",
       "      <th>Spalaus</th>\n",
       "    </tr>\n",
       "  </thead>\n",
       "  <tbody>\n",
       "    <tr>\n",
       "      <th>1</th>\n",
       "      <td>1</td>\n",
       "      <td>2</td>\n",
       "      <td>3</td>\n",
       "      <td>4</td>\n",
       "    </tr>\n",
       "    <tr>\n",
       "      <th>2</th>\n",
       "      <td>5</td>\n",
       "      <td>6</td>\n",
       "      <td>7</td>\n",
       "      <td>777</td>\n",
       "    </tr>\n",
       "    <tr>\n",
       "      <th>3</th>\n",
       "      <td>10</td>\n",
       "      <td>11</td>\n",
       "      <td>666</td>\n",
       "      <td>13</td>\n",
       "    </tr>\n",
       "  </tbody>\n",
       "</table>\n",
       "</div>"
      ],
      "text/plain": [
       "   Spalte555  column2  column3  Spalaus\n",
       "1          1        2        3        4\n",
       "2          5        6        7      777\n",
       "3         10       11      666       13"
      ]
     },
     "execution_count": 31,
     "metadata": {},
     "output_type": "execute_result"
    }
   ],
   "source": [
    "df.head()"
   ]
  },
  {
   "cell_type": "code",
   "execution_count": 52,
   "metadata": {},
   "outputs": [],
   "source": [
    "import pyxlsb as xl\n",
    "\n",
    "df_art = pd.read_excel(\"artikel.xlsb\", engine = \"pyxlsb\")\n"
   ]
  },
  {
   "cell_type": "code",
   "execution_count": 53,
   "metadata": {},
   "outputs": [
    {
     "data": {
      "text/plain": [
       "Index(['ARTIKELNR', 'ZEICHNUNG', 'BEZEICHNUNG_1', 'BEZEICHNUNG_2',\n",
       "       'WARENGRUPPE', 'HAUPTLIEFERANT', 'ARTIKELKLASSE', 'BESTAND',\n",
       "       'DISP_BEST', 'ABW_FAKTOR', 'ZUSATZTEXT', 'MERKMALE', 'TEXTE',\n",
       "       'Unnamed: 13', 'Unnamed: 14'],\n",
       "      dtype='object')"
      ]
     },
     "execution_count": 53,
     "metadata": {},
     "output_type": "execute_result"
    }
   ],
   "source": [
    "df_art.columns"
   ]
  },
  {
   "cell_type": "code",
   "execution_count": 54,
   "metadata": {},
   "outputs": [],
   "source": [
    "df_art = df_art.drop([\"ZEICHNUNG\"], axis = 1)"
   ]
  },
  {
   "cell_type": "code",
   "execution_count": 55,
   "metadata": {},
   "outputs": [
    {
     "data": {
      "text/plain": [
       "Index(['ARTIKELNR', 'BEZEICHNUNG_1', 'BEZEICHNUNG_2', 'WARENGRUPPE',\n",
       "       'HAUPTLIEFERANT', 'ARTIKELKLASSE', 'BESTAND', 'DISP_BEST', 'ABW_FAKTOR',\n",
       "       'ZUSATZTEXT', 'MERKMALE', 'TEXTE', 'Unnamed: 13', 'Unnamed: 14'],\n",
       "      dtype='object')"
      ]
     },
     "execution_count": 55,
     "metadata": {},
     "output_type": "execute_result"
    }
   ],
   "source": [
    "df_art.columns"
   ]
  },
  {
   "cell_type": "code",
   "execution_count": 65,
   "metadata": {},
   "outputs": [
    {
     "data": {
      "text/plain": [
       "0              0101 Blechzuschnitte\n",
       "1         8005 BAUGR.:VERBLOCKUNGEN\n",
       "2                               NaN\n",
       "3                               NaN\n",
       "4            5273 DECKEL-VERDICHTER\n",
       "                    ...            \n",
       "241166          5285 VENTILE  (S+D)\n",
       "241167          5285 VENTILE  (S+D)\n",
       "241168          5285 VENTILE  (S+D)\n",
       "241169    4322 RÜCKSCHLAGVENTIL+TEI\n",
       "241170                          NaN\n",
       "Name: WARENGRUPPE, Length: 241171, dtype: object"
      ]
     },
     "metadata": {},
     "output_type": "display_data"
    },
    {
     "data": {
      "text/plain": [
       "364"
      ]
     },
     "metadata": {},
     "output_type": "display_data"
    }
   ],
   "source": [
    "display (df_art[\"WARENGRUPPE\"])\n",
    "display (df_art[\"WARENGRUPPE\"].nunique())\n"
   ]
  },
  {
   "cell_type": "code",
   "execution_count": 67,
   "metadata": {},
   "outputs": [
    {
     "data": {
      "text/html": [
       "<div>\n",
       "<style scoped>\n",
       "    .dataframe tbody tr th:only-of-type {\n",
       "        vertical-align: middle;\n",
       "    }\n",
       "\n",
       "    .dataframe tbody tr th {\n",
       "        vertical-align: top;\n",
       "    }\n",
       "\n",
       "    .dataframe thead th {\n",
       "        text-align: right;\n",
       "    }\n",
       "</style>\n",
       "<table border=\"1\" class=\"dataframe\">\n",
       "  <thead>\n",
       "    <tr style=\"text-align: right;\">\n",
       "      <th></th>\n",
       "      <th>0</th>\n",
       "      <th>1</th>\n",
       "    </tr>\n",
       "  </thead>\n",
       "  <tbody>\n",
       "    <tr>\n",
       "      <th>0</th>\n",
       "      <td>0101</td>\n",
       "      <td>Blechzuschnitte</td>\n",
       "    </tr>\n",
       "    <tr>\n",
       "      <th>1</th>\n",
       "      <td>8005</td>\n",
       "      <td>BAUGR.:VERBLOCKUNGEN</td>\n",
       "    </tr>\n",
       "    <tr>\n",
       "      <th>2</th>\n",
       "      <td>NaN</td>\n",
       "      <td>NaN</td>\n",
       "    </tr>\n",
       "    <tr>\n",
       "      <th>3</th>\n",
       "      <td>NaN</td>\n",
       "      <td>NaN</td>\n",
       "    </tr>\n",
       "    <tr>\n",
       "      <th>4</th>\n",
       "      <td>5273</td>\n",
       "      <td>DECKEL-VERDICHTER</td>\n",
       "    </tr>\n",
       "    <tr>\n",
       "      <th>...</th>\n",
       "      <td>...</td>\n",
       "      <td>...</td>\n",
       "    </tr>\n",
       "    <tr>\n",
       "      <th>241166</th>\n",
       "      <td>5285</td>\n",
       "      <td>VENTILE  (S+D)</td>\n",
       "    </tr>\n",
       "    <tr>\n",
       "      <th>241167</th>\n",
       "      <td>5285</td>\n",
       "      <td>VENTILE  (S+D)</td>\n",
       "    </tr>\n",
       "    <tr>\n",
       "      <th>241168</th>\n",
       "      <td>5285</td>\n",
       "      <td>VENTILE  (S+D)</td>\n",
       "    </tr>\n",
       "    <tr>\n",
       "      <th>241169</th>\n",
       "      <td>4322</td>\n",
       "      <td>RÜCKSCHLAGVENTIL+TEI</td>\n",
       "    </tr>\n",
       "    <tr>\n",
       "      <th>241170</th>\n",
       "      <td>NaN</td>\n",
       "      <td>NaN</td>\n",
       "    </tr>\n",
       "  </tbody>\n",
       "</table>\n",
       "<p>241171 rows × 2 columns</p>\n",
       "</div>"
      ],
      "text/plain": [
       "           0                     1\n",
       "0       0101       Blechzuschnitte\n",
       "1       8005  BAUGR.:VERBLOCKUNGEN\n",
       "2        NaN                   NaN\n",
       "3        NaN                   NaN\n",
       "4       5273     DECKEL-VERDICHTER\n",
       "...      ...                   ...\n",
       "241166  5285        VENTILE  (S+D)\n",
       "241167  5285        VENTILE  (S+D)\n",
       "241168  5285        VENTILE  (S+D)\n",
       "241169  4322  RÜCKSCHLAGVENTIL+TEI\n",
       "241170   NaN                   NaN\n",
       "\n",
       "[241171 rows x 2 columns]"
      ]
     },
     "execution_count": 67,
     "metadata": {},
     "output_type": "execute_result"
    }
   ],
   "source": [
    "df_art[\"WARENGRUPPE\"].str.extract((r'(\\d+)\\s*(.*)'))"
   ]
  },
  {
   "cell_type": "code",
   "execution_count": null,
   "metadata": {},
   "outputs": [],
   "source": []
  }
 ],
 "metadata": {
  "kernelspec": {
   "display_name": ".venv",
   "language": "python",
   "name": "python3"
  },
  "language_info": {
   "codemirror_mode": {
    "name": "ipython",
    "version": 3
   },
   "file_extension": ".py",
   "mimetype": "text/x-python",
   "name": "python",
   "nbconvert_exporter": "python",
   "pygments_lexer": "ipython3",
   "version": "3.11.3"
  }
 },
 "nbformat": 4,
 "nbformat_minor": 2
}
